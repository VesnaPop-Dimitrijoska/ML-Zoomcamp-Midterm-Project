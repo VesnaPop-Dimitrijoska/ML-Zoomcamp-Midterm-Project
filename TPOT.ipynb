{
 "cells": [
  {
   "cell_type": "markdown",
   "metadata": {},
   "source": [
    "---\n",
    "# Model Hyperparameter Optimization with TPOT Regressor\n",
    "---"
   ]
  },
  {
   "cell_type": "code",
   "execution_count": null,
   "metadata": {},
   "outputs": [],
   "source": [
    "import random\n",
    "import numpy as np\n",
    "import pandas as pd\n",
    "import matplotlib.pyplot as plt\n",
    "import seaborn as sns\n",
    "import tqdm       \n",
    "import copy\n",
    "\n",
    "from sklearn.preprocessing import LabelEncoder\n",
    "from sklearn.preprocessing import MinMaxScaler\n",
    "                     \n",
    "from sklearn.model_selection import GridSearchCV, RandomizedSearchCV\n",
    "from sklearn.model_selection import KFold, StratifiedKFold, cross_val_score, cross_val_predict, cross_validate\n",
    "from sklearn.model_selection import train_test_split\n",
    "\n",
    "from tpot import TPOTRegressor\n",
    "from tpot.builtins import StackingEstimator\n",
    "\n",
    "# Regression metrics\n",
    "from sklearn.metrics import mean_absolute_error, mean_squared_error, r2_score\n",
    "\n",
    "RANDOM_STATE=42\n",
    "random.seed(RANDOM_STATE)\n",
    "np.random.seed(RANDOM_STATE)"
   ]
  },
  {
   "cell_type": "markdown",
   "metadata": {},
   "source": [
    "---\n",
    "# Read the Dataset"
   ]
  },
  {
   "cell_type": "code",
   "execution_count": 2,
   "metadata": {
    "scrolled": true
   },
   "outputs": [
    {
     "data": {
      "text/html": [
       "<div>\n",
       "<style scoped>\n",
       "    .dataframe tbody tr th:only-of-type {\n",
       "        vertical-align: middle;\n",
       "    }\n",
       "\n",
       "    .dataframe tbody tr th {\n",
       "        vertical-align: top;\n",
       "    }\n",
       "\n",
       "    .dataframe thead th {\n",
       "        text-align: right;\n",
       "    }\n",
       "</style>\n",
       "<table border=\"1\" class=\"dataframe\">\n",
       "  <thead>\n",
       "    <tr style=\"text-align: right;\">\n",
       "      <th></th>\n",
       "      <th>Month</th>\n",
       "      <th>DayOfWeek</th>\n",
       "      <th>DepTime</th>\n",
       "      <th>CRSDepTime</th>\n",
       "      <th>ArrTime</th>\n",
       "      <th>CRSArrTime</th>\n",
       "      <th>UniqueCarrier</th>\n",
       "      <th>TailNum</th>\n",
       "      <th>ActualElapsedTime</th>\n",
       "      <th>Origin</th>\n",
       "      <th>Dest</th>\n",
       "      <th>TaxiIn</th>\n",
       "      <th>TaxiOut</th>\n",
       "      <th>Delay</th>\n",
       "    </tr>\n",
       "  </thead>\n",
       "  <tbody>\n",
       "    <tr>\n",
       "      <th>0</th>\n",
       "      <td>1</td>\n",
       "      <td>4</td>\n",
       "      <td>1829.0</td>\n",
       "      <td>1755</td>\n",
       "      <td>1959.0</td>\n",
       "      <td>1925</td>\n",
       "      <td>WN</td>\n",
       "      <td>N464WN</td>\n",
       "      <td>9.486833</td>\n",
       "      <td>IND</td>\n",
       "      <td>BWI</td>\n",
       "      <td>1.732051</td>\n",
       "      <td>3.162278</td>\n",
       "      <td>34.0</td>\n",
       "    </tr>\n",
       "    <tr>\n",
       "      <th>1</th>\n",
       "      <td>1</td>\n",
       "      <td>4</td>\n",
       "      <td>1937.0</td>\n",
       "      <td>1830</td>\n",
       "      <td>2037.0</td>\n",
       "      <td>1940</td>\n",
       "      <td>WN</td>\n",
       "      <td>N763SW</td>\n",
       "      <td>15.491933</td>\n",
       "      <td>IND</td>\n",
       "      <td>LAS</td>\n",
       "      <td>1.732051</td>\n",
       "      <td>2.645751</td>\n",
       "      <td>57.0</td>\n",
       "    </tr>\n",
       "    <tr>\n",
       "      <th>2</th>\n",
       "      <td>1</td>\n",
       "      <td>4</td>\n",
       "      <td>1644.0</td>\n",
       "      <td>1510</td>\n",
       "      <td>1845.0</td>\n",
       "      <td>1725</td>\n",
       "      <td>WN</td>\n",
       "      <td>N334SW</td>\n",
       "      <td>11.000000</td>\n",
       "      <td>IND</td>\n",
       "      <td>MCO</td>\n",
       "      <td>2.449490</td>\n",
       "      <td>2.828427</td>\n",
       "      <td>80.0</td>\n",
       "    </tr>\n",
       "    <tr>\n",
       "      <th>3</th>\n",
       "      <td>1</td>\n",
       "      <td>4</td>\n",
       "      <td>1452.0</td>\n",
       "      <td>1425</td>\n",
       "      <td>1640.0</td>\n",
       "      <td>1625</td>\n",
       "      <td>WN</td>\n",
       "      <td>N286WN</td>\n",
       "      <td>15.099669</td>\n",
       "      <td>IND</td>\n",
       "      <td>PHX</td>\n",
       "      <td>2.645751</td>\n",
       "      <td>2.828427</td>\n",
       "      <td>15.0</td>\n",
       "    </tr>\n",
       "    <tr>\n",
       "      <th>4</th>\n",
       "      <td>1</td>\n",
       "      <td>4</td>\n",
       "      <td>1323.0</td>\n",
       "      <td>1255</td>\n",
       "      <td>1526.0</td>\n",
       "      <td>1510</td>\n",
       "      <td>WN</td>\n",
       "      <td>N674AA</td>\n",
       "      <td>11.090537</td>\n",
       "      <td>IND</td>\n",
       "      <td>TPA</td>\n",
       "      <td>2.000000</td>\n",
       "      <td>3.000000</td>\n",
       "      <td>16.0</td>\n",
       "    </tr>\n",
       "  </tbody>\n",
       "</table>\n",
       "</div>"
      ],
      "text/plain": [
       "   Month  DayOfWeek  DepTime  CRSDepTime  ArrTime  CRSArrTime UniqueCarrier  \\\n",
       "0      1          4   1829.0        1755   1959.0        1925            WN   \n",
       "1      1          4   1937.0        1830   2037.0        1940            WN   \n",
       "2      1          4   1644.0        1510   1845.0        1725            WN   \n",
       "3      1          4   1452.0        1425   1640.0        1625            WN   \n",
       "4      1          4   1323.0        1255   1526.0        1510            WN   \n",
       "\n",
       "  TailNum  ActualElapsedTime Origin Dest    TaxiIn   TaxiOut  Delay  \n",
       "0  N464WN           9.486833    IND  BWI  1.732051  3.162278   34.0  \n",
       "1  N763SW          15.491933    IND  LAS  1.732051  2.645751   57.0  \n",
       "2  N334SW          11.000000    IND  MCO  2.449490  2.828427   80.0  \n",
       "3  N286WN          15.099669    IND  PHX  2.645751  2.828427   15.0  \n",
       "4  N674AA          11.090537    IND  TPA  2.000000  3.000000   16.0  "
      ]
     },
     "metadata": {},
     "output_type": "display_data"
    }
   ],
   "source": [
    "org_df = pd.read_csv('AirlineDelay_CleanDataset.csv', index_col=0) \n",
    "df = org_df.copy()\n",
    "\n",
    "display(df.head())"
   ]
  },
  {
   "cell_type": "markdown",
   "metadata": {},
   "source": [
    "---\n",
    "# Encoding Categorical features"
   ]
  },
  {
   "cell_type": "code",
   "execution_count": 3,
   "metadata": {},
   "outputs": [],
   "source": [
    "cat_cols = list(df.select_dtypes('object').columns)\n",
    "\n",
    "for c in cat_cols:\n",
    "    df[c] = LabelEncoder().fit_transform(df[c].values)"
   ]
  },
  {
   "cell_type": "markdown",
   "metadata": {},
   "source": [
    "---\n",
    "# Dividing the dataset: \n",
    "### X-Class/Target column and y-Features/Attributes "
   ]
  },
  {
   "cell_type": "code",
   "execution_count": 4,
   "metadata": {},
   "outputs": [],
   "source": [
    "# Whole Dataset\n",
    "\n",
    "# X = df.drop(columns=['Delay'])                            \n",
    "# y = df['Delay']"
   ]
  },
  {
   "cell_type": "code",
   "execution_count": 5,
   "metadata": {},
   "outputs": [],
   "source": [
    "# Testing sample of the Dataset\n",
    "\n",
    "A = df.drop(columns=['Delay'])                            \n",
    "b = df['Delay']\n",
    "\n",
    "bins = [15, 60, 120, 180, 240, 300, 360, 2462] \n",
    "y_binned = np.digitize(b, bins=bins, right=True)\n",
    "\n",
    "X_train, X, y_train, y = train_test_split(A, b, test_size=0.10, stratify=y_binned, random_state=RANDOM_STATE)"
   ]
  },
  {
   "cell_type": "markdown",
   "metadata": {},
   "source": [
    "---\n",
    "# Train/Test Stratified Split"
   ]
  },
  {
   "cell_type": "code",
   "execution_count": 6,
   "metadata": {},
   "outputs": [],
   "source": [
    "# Dividing the bins by hour\n",
    "bins = [15, 60, 120, 180, 240, 300, 360, 2462] \n",
    "#bins = [np.log(x) for x in original_bins]\n",
    "y_binned = np.digitize(y, bins=bins, right=True)"
   ]
  },
  {
   "cell_type": "code",
   "execution_count": 7,
   "metadata": {},
   "outputs": [],
   "source": [
    "X_train, X_test, y_train, y_test = train_test_split(X, y, test_size=0.20, stratify=y_binned, random_state=RANDOM_STATE)"
   ]
  },
  {
   "cell_type": "markdown",
   "metadata": {},
   "source": [
    "---\n",
    "# Train and evaluate the model with TPOT Regressor "
   ]
  },
  {
   "cell_type": "code",
   "execution_count": 8,
   "metadata": {},
   "outputs": [
    {
     "data": {
      "application/vnd.jupyter.widget-view+json": {
       "model_id": "",
       "version_major": 2,
       "version_minor": 0
      },
      "text/plain": [
       "Optimization Progress:   0%|          | 0/330 [00:00<?, ?pipeline/s]"
      ]
     },
     "metadata": {},
     "output_type": "display_data"
    },
    {
     "name": "stdout",
     "output_type": "stream",
     "text": [
      "\n",
      "Generation 1 - Current best internal CV score: 0.8290184529474457\n",
      "\n",
      "Generation 2 - Current best internal CV score: 0.8351573442708856\n",
      "\n",
      "Generation 3 - Current best internal CV score: 0.9562901212764746\n",
      "\n",
      "Generation 4 - Current best internal CV score: 0.9562901212764746\n",
      "\n",
      "Generation 5 - Current best internal CV score: 0.9562901212764746\n",
      "\n",
      "Generation 6 - Current best internal CV score: 0.9562901212764746\n",
      "\n",
      "Generation 7 - Current best internal CV score: 0.9562901212764746\n",
      "\n",
      "Generation 8 - Current best internal CV score: 0.9562901212764746\n",
      "\n",
      "Generation 9 - Current best internal CV score: 0.9562901212764746\n",
      "\n",
      "Generation 10 - Current best internal CV score: 0.9562901212764746\n",
      "\n",
      "Best pipeline: RandomForestRegressor(input_matrix, criterion=squared_error, max_depth=None, min_samples_leaf=5, min_samples_split=5, n_estimators=50, random_state=42)\n"
     ]
    },
    {
     "data": {
      "text/html": [
       "<style>#sk-container-id-1 {color: black;}#sk-container-id-1 pre{padding: 0;}#sk-container-id-1 div.sk-toggleable {background-color: white;}#sk-container-id-1 label.sk-toggleable__label {cursor: pointer;display: block;width: 100%;margin-bottom: 0;padding: 0.3em;box-sizing: border-box;text-align: center;}#sk-container-id-1 label.sk-toggleable__label-arrow:before {content: \"▸\";float: left;margin-right: 0.25em;color: #696969;}#sk-container-id-1 label.sk-toggleable__label-arrow:hover:before {color: black;}#sk-container-id-1 div.sk-estimator:hover label.sk-toggleable__label-arrow:before {color: black;}#sk-container-id-1 div.sk-toggleable__content {max-height: 0;max-width: 0;overflow: hidden;text-align: left;background-color: #f0f8ff;}#sk-container-id-1 div.sk-toggleable__content pre {margin: 0.2em;color: black;border-radius: 0.25em;background-color: #f0f8ff;}#sk-container-id-1 input.sk-toggleable__control:checked~div.sk-toggleable__content {max-height: 200px;max-width: 100%;overflow: auto;}#sk-container-id-1 input.sk-toggleable__control:checked~label.sk-toggleable__label-arrow:before {content: \"▾\";}#sk-container-id-1 div.sk-estimator input.sk-toggleable__control:checked~label.sk-toggleable__label {background-color: #d4ebff;}#sk-container-id-1 div.sk-label input.sk-toggleable__control:checked~label.sk-toggleable__label {background-color: #d4ebff;}#sk-container-id-1 input.sk-hidden--visually {border: 0;clip: rect(1px 1px 1px 1px);clip: rect(1px, 1px, 1px, 1px);height: 1px;margin: -1px;overflow: hidden;padding: 0;position: absolute;width: 1px;}#sk-container-id-1 div.sk-estimator {font-family: monospace;background-color: #f0f8ff;border: 1px dotted black;border-radius: 0.25em;box-sizing: border-box;margin-bottom: 0.5em;}#sk-container-id-1 div.sk-estimator:hover {background-color: #d4ebff;}#sk-container-id-1 div.sk-parallel-item::after {content: \"\";width: 100%;border-bottom: 1px solid gray;flex-grow: 1;}#sk-container-id-1 div.sk-label:hover label.sk-toggleable__label {background-color: #d4ebff;}#sk-container-id-1 div.sk-serial::before {content: \"\";position: absolute;border-left: 1px solid gray;box-sizing: border-box;top: 0;bottom: 0;left: 50%;z-index: 0;}#sk-container-id-1 div.sk-serial {display: flex;flex-direction: column;align-items: center;background-color: white;padding-right: 0.2em;padding-left: 0.2em;position: relative;}#sk-container-id-1 div.sk-item {position: relative;z-index: 1;}#sk-container-id-1 div.sk-parallel {display: flex;align-items: stretch;justify-content: center;background-color: white;position: relative;}#sk-container-id-1 div.sk-item::before, #sk-container-id-1 div.sk-parallel-item::before {content: \"\";position: absolute;border-left: 1px solid gray;box-sizing: border-box;top: 0;bottom: 0;left: 50%;z-index: -1;}#sk-container-id-1 div.sk-parallel-item {display: flex;flex-direction: column;z-index: 1;position: relative;background-color: white;}#sk-container-id-1 div.sk-parallel-item:first-child::after {align-self: flex-end;width: 50%;}#sk-container-id-1 div.sk-parallel-item:last-child::after {align-self: flex-start;width: 50%;}#sk-container-id-1 div.sk-parallel-item:only-child::after {width: 0;}#sk-container-id-1 div.sk-dashed-wrapped {border: 1px dashed gray;margin: 0 0.4em 0.5em 0.4em;box-sizing: border-box;padding-bottom: 0.4em;background-color: white;}#sk-container-id-1 div.sk-label label {font-family: monospace;font-weight: bold;display: inline-block;line-height: 1.2em;}#sk-container-id-1 div.sk-label-container {text-align: center;}#sk-container-id-1 div.sk-container {/* jupyter's `normalize.less` sets `[hidden] { display: none; }` but bootstrap.min.css set `[hidden] { display: none !important; }` so we also need the `!important` here to be able to override the default hidden behavior on the sphinx rendered scikit-learn.org. See: https://github.com/scikit-learn/scikit-learn/issues/21755 */display: inline-block !important;position: relative;}#sk-container-id-1 div.sk-text-repr-fallback {display: none;}</style><div id=\"sk-container-id-1\" class=\"sk-top-container\"><div class=\"sk-text-repr-fallback\"><pre>TPOTRegressor(config_dict={&#x27;sklearn.ensemble.RandomForestRegressor&#x27;: {&#x27;criterion&#x27;: [&#x27;absolute_error&#x27;,\n",
       "                                                                                    &#x27;squared_error&#x27;],\n",
       "                                                                      &#x27;max_depth&#x27;: [1,\n",
       "                                                                                    5,\n",
       "                                                                                    None],\n",
       "                                                                      &#x27;min_samples_leaf&#x27;: [1,\n",
       "                                                                                           5],\n",
       "                                                                      &#x27;min_samples_split&#x27;: [2,\n",
       "                                                                                            5],\n",
       "                                                                      &#x27;n_estimators&#x27;: [50,\n",
       "                                                                                       100],\n",
       "                                                                      &#x27;random_state&#x27;: [42]},\n",
       "                           &#x27;sklearn.neighbors.KNeighborsRegressor&#x27;: {&#x27;n_neighbors&#x27;: [2,\n",
       "                                                                                     5,\n",
       "                                                                                     10]},\n",
       "                           &#x27;sklearn.preprocessing.MinMaxScaler&#x27;: {}},\n",
       "              cv=3, generations=10, n_jobs=-2, population_size=30, scoring=&#x27;r2&#x27;,\n",
       "              verbosity=2)</pre><b>In a Jupyter environment, please rerun this cell to show the HTML representation or trust the notebook. <br />On GitHub, the HTML representation is unable to render, please try loading this page with nbviewer.org.</b></div><div class=\"sk-container\" hidden><div class=\"sk-item\"><div class=\"sk-estimator sk-toggleable\"><input class=\"sk-toggleable__control sk-hidden--visually\" id=\"sk-estimator-id-1\" type=\"checkbox\" checked><label for=\"sk-estimator-id-1\" class=\"sk-toggleable__label sk-toggleable__label-arrow\">TPOTRegressor</label><div class=\"sk-toggleable__content\"><pre>TPOTRegressor(config_dict={&#x27;sklearn.ensemble.RandomForestRegressor&#x27;: {&#x27;criterion&#x27;: [&#x27;absolute_error&#x27;,\n",
       "                                                                                    &#x27;squared_error&#x27;],\n",
       "                                                                      &#x27;max_depth&#x27;: [1,\n",
       "                                                                                    5,\n",
       "                                                                                    None],\n",
       "                                                                      &#x27;min_samples_leaf&#x27;: [1,\n",
       "                                                                                           5],\n",
       "                                                                      &#x27;min_samples_split&#x27;: [2,\n",
       "                                                                                            5],\n",
       "                                                                      &#x27;n_estimators&#x27;: [50,\n",
       "                                                                                       100],\n",
       "                                                                      &#x27;random_state&#x27;: [42]},\n",
       "                           &#x27;sklearn.neighbors.KNeighborsRegressor&#x27;: {&#x27;n_neighbors&#x27;: [2,\n",
       "                                                                                     5,\n",
       "                                                                                     10]},\n",
       "                           &#x27;sklearn.preprocessing.MinMaxScaler&#x27;: {}},\n",
       "              cv=3, generations=10, n_jobs=-2, population_size=30, scoring=&#x27;r2&#x27;,\n",
       "              verbosity=2)</pre></div></div></div></div></div>"
      ],
      "text/plain": [
       "TPOTRegressor(config_dict={'sklearn.ensemble.RandomForestRegressor': {'criterion': ['absolute_error',\n",
       "                                                                                    'squared_error'],\n",
       "                                                                      'max_depth': [1,\n",
       "                                                                                    5,\n",
       "                                                                                    None],\n",
       "                                                                      'min_samples_leaf': [1,\n",
       "                                                                                           5],\n",
       "                                                                      'min_samples_split': [2,\n",
       "                                                                                            5],\n",
       "                                                                      'n_estimators': [50,\n",
       "                                                                                       100],\n",
       "                                                                      'random_state': [42]},\n",
       "                           'sklearn.neighbors.KNeighborsRegressor': {'n_neighbors': [2,\n",
       "                                                                                     5,\n",
       "                                                                                     10]},\n",
       "                           'sklearn.preprocessing.MinMaxScaler': {}},\n",
       "              cv=3, generations=10, n_jobs=-2, population_size=30, scoring='r2',\n",
       "              verbosity=2)"
      ]
     },
     "execution_count": 8,
     "metadata": {},
     "output_type": "execute_result"
    }
   ],
   "source": [
    "tpot_config = {\n",
    "    'sklearn.ensemble.RandomForestRegressor': {\n",
    "        'criterion': ['absolute_error', 'squared_error'],\n",
    "        'max_depth': [1, 5, None],\n",
    "        'min_samples_leaf': [1,5],\n",
    "        'min_samples_split': [2,5,],\n",
    "        'n_estimators': [50, 100],\n",
    "        'random_state': [RANDOM_STATE]\n",
    "        },\n",
    "    'sklearn.neighbors.KNeighborsRegressor':{\n",
    "        'n_neighbors': [2,5,10]\n",
    "    },\n",
    "    'sklearn.preprocessing.MinMaxScaler': {}\n",
    "}\n",
    "\n",
    "model = TPOTRegressor(generations=10, population_size=30, verbosity=2, cv=3, scoring='r2', n_jobs=-2,\n",
    "                     config_dict = tpot_config)\n",
    "\n",
    "model.fit(X_train, y_train.to_numpy().flatten())"
   ]
  },
  {
   "cell_type": "code",
   "execution_count": 10,
   "metadata": {},
   "outputs": [
    {
     "name": "stdout",
     "output_type": "stream",
     "text": [
      "R2 Score:  0.9687702996506035\n"
     ]
    }
   ],
   "source": [
    "print('R2 Score: ', model.score(X_test, y_test.to_numpy().flatten()))"
   ]
  }
 ],
 "metadata": {
  "colab": {
   "collapsed_sections": [],
   "name": "Workshop_Week4.ipynb",
   "provenance": []
  },
  "kernelspec": {
   "display_name": "Python 3 (ipykernel)",
   "language": "python",
   "name": "python3"
  },
  "language_info": {
   "codemirror_mode": {
    "name": "ipython",
    "version": 3
   },
   "file_extension": ".py",
   "mimetype": "text/x-python",
   "name": "python",
   "nbconvert_exporter": "python",
   "pygments_lexer": "ipython3",
   "version": "3.10.9"
  },
  "vscode": {
   "interpreter": {
    "hash": "5238573367df39f7286bb46f9ff5f08f63a01a80960060ce41e3c79b190280fa"
   }
  }
 },
 "nbformat": 4,
 "nbformat_minor": 1
}
