{
 "cells": [
  {
   "cell_type": "markdown",
   "metadata": {},
   "source": [
    "---\n",
    "# Baseline model \n",
    "---"
   ]
  },
  {
   "cell_type": "code",
   "execution_count": 1,
   "metadata": {},
   "outputs": [],
   "source": [
    "import random\n",
    "import numpy as np\n",
    "import pandas as pd\n",
    "import matplotlib.pyplot as plt\n",
    "import seaborn as sns\n",
    "import tqdm       \n",
    "import copy\n",
    "\n",
    "from sklearn.preprocessing import LabelEncoder, OrdinalEncoder\n",
    "from sklearn.preprocessing import MinMaxScaler\n",
    "from collections import Counter\n",
    "                     \n",
    "from sklearn.compose import ColumnTransformer\n",
    "from sklearn.pipeline import Pipeline\n",
    "from sklearn.pipeline import make_pipeline, make_union\n",
    "\n",
    "from sklearn.model_selection import GridSearchCV, RandomizedSearchCV\n",
    "from sklearn.model_selection import KFold, StratifiedKFold, cross_val_score, cross_val_predict, cross_validate\n",
    "from sklearn.model_selection import train_test_split\n",
    "\n",
    "from tpot import TPOTRegressor\n",
    "from tpot.builtins import StackingEstimator\n",
    "\n",
    "# Regression models\n",
    "from sklearn.linear_model import LinearRegression\n",
    "from sklearn.linear_model import Lasso, ElasticNet, Ridge, SGDRegressor\n",
    "from sklearn.tree import DecisionTreeRegressor\n",
    "from sklearn.dummy import DummyRegressor\n",
    "from sklearn.kernel_ridge import KernelRidge\n",
    "from sklearn.svm import LinearSVR, SVR\n",
    "from sklearn.ensemble import RandomForestRegressor\n",
    "\n",
    "# Regression metrics\n",
    "from sklearn.metrics import mean_absolute_error, mean_squared_error, r2_score\n",
    "\n",
    "RANDOM_STATE=42\n",
    "random.seed(RANDOM_STATE)\n",
    "np.random.seed(RANDOM_STATE)"
   ]
  },
  {
   "cell_type": "markdown",
   "metadata": {},
   "source": [
    "---\n",
    "# Read the Dataset"
   ]
  },
  {
   "cell_type": "code",
   "execution_count": 2,
   "metadata": {
    "scrolled": true
   },
   "outputs": [
    {
     "data": {
      "text/html": [
       "<div>\n",
       "<style scoped>\n",
       "    .dataframe tbody tr th:only-of-type {\n",
       "        vertical-align: middle;\n",
       "    }\n",
       "\n",
       "    .dataframe tbody tr th {\n",
       "        vertical-align: top;\n",
       "    }\n",
       "\n",
       "    .dataframe thead th {\n",
       "        text-align: right;\n",
       "    }\n",
       "</style>\n",
       "<table border=\"1\" class=\"dataframe\">\n",
       "  <thead>\n",
       "    <tr style=\"text-align: right;\">\n",
       "      <th></th>\n",
       "      <th>Month</th>\n",
       "      <th>DayOfWeek</th>\n",
       "      <th>DepTime</th>\n",
       "      <th>CRSDepTime</th>\n",
       "      <th>ArrTime</th>\n",
       "      <th>CRSArrTime</th>\n",
       "      <th>UniqueCarrier</th>\n",
       "      <th>TailNum</th>\n",
       "      <th>ActualElapsedTime</th>\n",
       "      <th>Origin</th>\n",
       "      <th>Dest</th>\n",
       "      <th>TaxiIn</th>\n",
       "      <th>TaxiOut</th>\n",
       "      <th>Delay</th>\n",
       "    </tr>\n",
       "  </thead>\n",
       "  <tbody>\n",
       "    <tr>\n",
       "      <th>0</th>\n",
       "      <td>1</td>\n",
       "      <td>4</td>\n",
       "      <td>1829.0</td>\n",
       "      <td>1755</td>\n",
       "      <td>1959.0</td>\n",
       "      <td>1925</td>\n",
       "      <td>WN</td>\n",
       "      <td>N464WN</td>\n",
       "      <td>9.486833</td>\n",
       "      <td>IND</td>\n",
       "      <td>BWI</td>\n",
       "      <td>1.732051</td>\n",
       "      <td>3.162278</td>\n",
       "      <td>34.0</td>\n",
       "    </tr>\n",
       "    <tr>\n",
       "      <th>1</th>\n",
       "      <td>1</td>\n",
       "      <td>4</td>\n",
       "      <td>1937.0</td>\n",
       "      <td>1830</td>\n",
       "      <td>2037.0</td>\n",
       "      <td>1940</td>\n",
       "      <td>WN</td>\n",
       "      <td>N763SW</td>\n",
       "      <td>15.491933</td>\n",
       "      <td>IND</td>\n",
       "      <td>LAS</td>\n",
       "      <td>1.732051</td>\n",
       "      <td>2.645751</td>\n",
       "      <td>57.0</td>\n",
       "    </tr>\n",
       "    <tr>\n",
       "      <th>2</th>\n",
       "      <td>1</td>\n",
       "      <td>4</td>\n",
       "      <td>1644.0</td>\n",
       "      <td>1510</td>\n",
       "      <td>1845.0</td>\n",
       "      <td>1725</td>\n",
       "      <td>WN</td>\n",
       "      <td>N334SW</td>\n",
       "      <td>11.000000</td>\n",
       "      <td>IND</td>\n",
       "      <td>MCO</td>\n",
       "      <td>2.449490</td>\n",
       "      <td>2.828427</td>\n",
       "      <td>80.0</td>\n",
       "    </tr>\n",
       "    <tr>\n",
       "      <th>3</th>\n",
       "      <td>1</td>\n",
       "      <td>4</td>\n",
       "      <td>1452.0</td>\n",
       "      <td>1425</td>\n",
       "      <td>1640.0</td>\n",
       "      <td>1625</td>\n",
       "      <td>WN</td>\n",
       "      <td>N286WN</td>\n",
       "      <td>15.099669</td>\n",
       "      <td>IND</td>\n",
       "      <td>PHX</td>\n",
       "      <td>2.645751</td>\n",
       "      <td>2.828427</td>\n",
       "      <td>15.0</td>\n",
       "    </tr>\n",
       "    <tr>\n",
       "      <th>4</th>\n",
       "      <td>1</td>\n",
       "      <td>4</td>\n",
       "      <td>1323.0</td>\n",
       "      <td>1255</td>\n",
       "      <td>1526.0</td>\n",
       "      <td>1510</td>\n",
       "      <td>WN</td>\n",
       "      <td>N674AA</td>\n",
       "      <td>11.090537</td>\n",
       "      <td>IND</td>\n",
       "      <td>TPA</td>\n",
       "      <td>2.000000</td>\n",
       "      <td>3.000000</td>\n",
       "      <td>16.0</td>\n",
       "    </tr>\n",
       "  </tbody>\n",
       "</table>\n",
       "</div>"
      ],
      "text/plain": [
       "   Month  DayOfWeek  DepTime  CRSDepTime  ArrTime  CRSArrTime UniqueCarrier  \\\n",
       "0      1          4   1829.0        1755   1959.0        1925            WN   \n",
       "1      1          4   1937.0        1830   2037.0        1940            WN   \n",
       "2      1          4   1644.0        1510   1845.0        1725            WN   \n",
       "3      1          4   1452.0        1425   1640.0        1625            WN   \n",
       "4      1          4   1323.0        1255   1526.0        1510            WN   \n",
       "\n",
       "  TailNum  ActualElapsedTime Origin Dest    TaxiIn   TaxiOut  Delay  \n",
       "0  N464WN           9.486833    IND  BWI  1.732051  3.162278   34.0  \n",
       "1  N763SW          15.491933    IND  LAS  1.732051  2.645751   57.0  \n",
       "2  N334SW          11.000000    IND  MCO  2.449490  2.828427   80.0  \n",
       "3  N286WN          15.099669    IND  PHX  2.645751  2.828427   15.0  \n",
       "4  N674AA          11.090537    IND  TPA  2.000000  3.000000   16.0  "
      ]
     },
     "metadata": {},
     "output_type": "display_data"
    }
   ],
   "source": [
    "org_df = pd.read_csv('AirlineDelay_CleanDataset.csv', index_col=0) \n",
    "df = org_df.copy()\n",
    "\n",
    "display(df.head())"
   ]
  },
  {
   "cell_type": "markdown",
   "metadata": {},
   "source": [
    "---\n",
    "# Encoding Categorical features"
   ]
  },
  {
   "cell_type": "code",
   "execution_count": 3,
   "metadata": {},
   "outputs": [],
   "source": [
    "cat_cols = list(df.select_dtypes('object').columns)\n",
    "\n",
    "for c in cat_cols:\n",
    "    df[c] = LabelEncoder().fit_transform(df[c].values)"
   ]
  },
  {
   "cell_type": "markdown",
   "metadata": {},
   "source": [
    "---\n",
    "# Dividing the dataset: \n",
    "### X-Class/Target column and y-Features/Attributes "
   ]
  },
  {
   "cell_type": "code",
   "execution_count": 4,
   "metadata": {},
   "outputs": [],
   "source": [
    "X = df.drop(columns=['Delay'])                                 \n",
    "y = df['Delay']"
   ]
  },
  {
   "cell_type": "markdown",
   "metadata": {},
   "source": [
    "---\n",
    "# Train/Test Stratified Split"
   ]
  },
  {
   "cell_type": "code",
   "execution_count": 5,
   "metadata": {},
   "outputs": [],
   "source": [
    "bins = [15, 60, 120, 180, 240, 300, 2462] \n",
    "\n",
    "#bins = [np.log(x) for x in original_bins]\n",
    "y_binned = np.digitize(y, bins=bins, right=True)\n",
    "\n",
    "X_train, X_test, y_train, y_test = train_test_split(X, y, test_size=0.2, stratify=y_binned, random_state=RANDOM_STATE)"
   ]
  },
  {
   "cell_type": "markdown",
   "metadata": {},
   "source": [
    "---\n",
    "# Scaling the dataset using MinMaxScaler: "
   ]
  },
  {
   "cell_type": "code",
   "execution_count": 6,
   "metadata": {},
   "outputs": [],
   "source": [
    "mms = MinMaxScaler()\n",
    "X_train = pd.DataFrame(mms.fit_transform(X_train), columns=X_train.columns)\n",
    "X_test = pd.DataFrame(mms.fit_transform(X_test), columns=X_test.columns)"
   ]
  },
  {
   "cell_type": "markdown",
   "metadata": {},
   "source": [
    "---\n",
    "# Train and evaluate the model with Baseline Regressors"
   ]
  },
  {
   "cell_type": "code",
   "execution_count": 7,
   "metadata": {},
   "outputs": [],
   "source": [
    "dummy_regr = DummyRegressor(strategy=\"mean\")\n",
    "lin = LinearRegression()\n",
    "dt = DecisionTreeRegressor(random_state=RANDOM_STATE)\n",
    "rf_rg = RandomForestRegressor(random_state=RANDOM_STATE)\n",
    "\n",
    "dummy_regr.fit(X_train, y_train.to_numpy().flatten())\n",
    "lin.fit(X_train, y_train.to_numpy().flatten())\n",
    "dt.fit(X_train, y_train.to_numpy().flatten())\n",
    "rf_rg.fit(X_train, y_train.to_numpy().flatten())\n",
    "\n",
    "y_dm = dummy_regr.predict(X_test)\n",
    "y_lin = lin.predict(X_test)\n",
    "y_dt = dt.predict(X_test)\n",
    "y_rf = rf_rg.predict(X_test)"
   ]
  },
  {
   "cell_type": "code",
   "execution_count": 8,
   "metadata": {},
   "outputs": [
    {
     "data": {
      "text/html": [
       "<div>\n",
       "<style scoped>\n",
       "    .dataframe tbody tr th:only-of-type {\n",
       "        vertical-align: middle;\n",
       "    }\n",
       "\n",
       "    .dataframe tbody tr th {\n",
       "        vertical-align: top;\n",
       "    }\n",
       "\n",
       "    .dataframe thead th {\n",
       "        text-align: right;\n",
       "    }\n",
       "</style>\n",
       "<table border=\"1\" class=\"dataframe\">\n",
       "  <thead>\n",
       "    <tr style=\"text-align: right;\">\n",
       "      <th></th>\n",
       "      <th>Metric</th>\n",
       "      <th>Dummy</th>\n",
       "      <th>Linear</th>\n",
       "      <th>DecisionTree</th>\n",
       "      <th>RandomForest</th>\n",
       "    </tr>\n",
       "  </thead>\n",
       "  <tbody>\n",
       "    <tr>\n",
       "      <th>0</th>\n",
       "      <td>MAE</td>\n",
       "      <td>4.024038e+01</td>\n",
       "      <td>37.569098</td>\n",
       "      <td>0.632176</td>\n",
       "      <td>0.381200</td>\n",
       "    </tr>\n",
       "    <tr>\n",
       "      <th>1</th>\n",
       "      <td>RMSE</td>\n",
       "      <td>6.060367e+01</td>\n",
       "      <td>58.073010</td>\n",
       "      <td>7.507603</td>\n",
       "      <td>5.777435</td>\n",
       "    </tr>\n",
       "    <tr>\n",
       "      <th>2</th>\n",
       "      <td>R2</td>\n",
       "      <td>-3.283945e-08</td>\n",
       "      <td>0.081771</td>\n",
       "      <td>0.984654</td>\n",
       "      <td>0.990912</td>\n",
       "    </tr>\n",
       "  </tbody>\n",
       "</table>\n",
       "</div>"
      ],
      "text/plain": [
       "  Metric         Dummy     Linear  DecisionTree  RandomForest\n",
       "0    MAE  4.024038e+01  37.569098      0.632176      0.381200\n",
       "1   RMSE  6.060367e+01  58.073010      7.507603      5.777435\n",
       "2     R2 -3.283945e-08   0.081771      0.984654      0.990912"
      ]
     },
     "execution_count": 8,
     "metadata": {},
     "output_type": "execute_result"
    }
   ],
   "source": [
    "mae_dm = mean_absolute_error(y_test, y_dm)\n",
    "rmse_dm = np.sqrt(mean_squared_error(y_test, y_dm))\n",
    "r2_dm = r2_score(y_test, y_dm)\n",
    "\n",
    "mae_lin = mean_absolute_error(y_test, y_lin)\n",
    "rmse_lin = np.sqrt(mean_squared_error(y_test, y_lin))\n",
    "r2_lin = r2_score(y_test, y_lin)\n",
    "\n",
    "mae_dt = mean_absolute_error(y_test, y_dt)\n",
    "rmse_dt = np.sqrt(mean_squared_error(y_test, y_dt))\n",
    "r2_dt = r2_score(y_test, y_dt)\n",
    "\n",
    "mae_rf = mean_absolute_error(y_test, y_rf)\n",
    "rmse_rf = np.sqrt(mean_squared_error(y_test, y_rf))\n",
    "r2_rf = r2_score(y_test, y_rf)\n",
    "\n",
    "data = {'Metric': ['MAE', 'RMSE', 'R2'],\n",
    "        'Dummy': [mae_dm, rmse_dm, r2_dm],\n",
    "        'Linear': [mae_lin, rmse_lin, r2_lin],\n",
    "        'DecisionTree': [mae_dt, rmse_dt, r2_dt],\n",
    "        'RandomForest': [mae_rf, rmse_rf, r2_rf] \n",
    "       }\n",
    "comp_df = pd.DataFrame(data, columns = ['Metric', 'Dummy', 'Linear', 'DecisionTree', 'RandomForest'])\n",
    "comp_df"
   ]
  }
 ],
 "metadata": {
  "colab": {
   "collapsed_sections": [],
   "name": "Workshop_Week4.ipynb",
   "provenance": []
  },
  "kernelspec": {
   "display_name": "Python 3 (ipykernel)",
   "language": "python",
   "name": "python3"
  },
  "language_info": {
   "codemirror_mode": {
    "name": "ipython",
    "version": 3
   },
   "file_extension": ".py",
   "mimetype": "text/x-python",
   "name": "python",
   "nbconvert_exporter": "python",
   "pygments_lexer": "ipython3",
   "version": "3.10.9"
  },
  "vscode": {
   "interpreter": {
    "hash": "5238573367df39f7286bb46f9ff5f08f63a01a80960060ce41e3c79b190280fa"
   }
  }
 },
 "nbformat": 4,
 "nbformat_minor": 1
}
