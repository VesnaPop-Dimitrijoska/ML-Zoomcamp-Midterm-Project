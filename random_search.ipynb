{
 "cells": [
  {
   "cell_type": "markdown",
   "metadata": {},
   "source": [
    "---\n",
    "# Model Hyperparameter Optimization with Random Search\n",
    "---"
   ]
  },
  {
   "cell_type": "code",
   "execution_count": null,
   "metadata": {},
   "outputs": [],
   "source": [
    "import random\n",
    "import numpy as np\n",
    "import pandas as pd\n",
    "import matplotlib.pyplot as plt\n",
    "import seaborn as sns\n",
    "import tqdm       \n",
    "import copy\n",
    "\n",
    "from sklearn.preprocessing import LabelEncoder\n",
    "from sklearn.preprocessing import MinMaxScaler\n",
    "                     \n",
    "from sklearn.compose import ColumnTransformer\n",
    "from sklearn.pipeline import Pipeline\n",
    "\n",
    "from sklearn.model_selection import RandomizedSearchCV\n",
    "from sklearn.model_selection import StratifiedKFold, cross_val_score, cross_val_predict, cross_validate\n",
    "from sklearn.model_selection import train_test_split\n",
    "\n",
    "# Regression models\n",
    "from sklearn.linear_model import Lasso, ElasticNet\n",
    "from sklearn.ensemble import RandomForestRegressor\n",
    "\n",
    "# Regression metrics\n",
    "from sklearn.metrics import mean_absolute_error, mean_squared_error, r2_score\n",
    "\n",
    "RANDOM_STATE=42\n",
    "random.seed(RANDOM_STATE)\n",
    "np.random.seed(RANDOM_STATE)"
   ]
  },
  {
   "cell_type": "markdown",
   "metadata": {},
   "source": [
    "---\n",
    "# Read the Dataset"
   ]
  },
  {
   "cell_type": "code",
   "execution_count": 2,
   "metadata": {
    "scrolled": true
   },
   "outputs": [
    {
     "data": {
      "text/html": [
       "<div>\n",
       "<style scoped>\n",
       "    .dataframe tbody tr th:only-of-type {\n",
       "        vertical-align: middle;\n",
       "    }\n",
       "\n",
       "    .dataframe tbody tr th {\n",
       "        vertical-align: top;\n",
       "    }\n",
       "\n",
       "    .dataframe thead th {\n",
       "        text-align: right;\n",
       "    }\n",
       "</style>\n",
       "<table border=\"1\" class=\"dataframe\">\n",
       "  <thead>\n",
       "    <tr style=\"text-align: right;\">\n",
       "      <th></th>\n",
       "      <th>Month</th>\n",
       "      <th>DayOfWeek</th>\n",
       "      <th>DepTime</th>\n",
       "      <th>CRSDepTime</th>\n",
       "      <th>ArrTime</th>\n",
       "      <th>CRSArrTime</th>\n",
       "      <th>UniqueCarrier</th>\n",
       "      <th>TailNum</th>\n",
       "      <th>ActualElapsedTime</th>\n",
       "      <th>Origin</th>\n",
       "      <th>Dest</th>\n",
       "      <th>TaxiIn</th>\n",
       "      <th>TaxiOut</th>\n",
       "      <th>Delay</th>\n",
       "    </tr>\n",
       "  </thead>\n",
       "  <tbody>\n",
       "    <tr>\n",
       "      <th>0</th>\n",
       "      <td>1</td>\n",
       "      <td>4</td>\n",
       "      <td>1829.0</td>\n",
       "      <td>1755</td>\n",
       "      <td>1959.0</td>\n",
       "      <td>1925</td>\n",
       "      <td>WN</td>\n",
       "      <td>N464WN</td>\n",
       "      <td>9.486833</td>\n",
       "      <td>IND</td>\n",
       "      <td>BWI</td>\n",
       "      <td>1.732051</td>\n",
       "      <td>3.162278</td>\n",
       "      <td>34.0</td>\n",
       "    </tr>\n",
       "    <tr>\n",
       "      <th>1</th>\n",
       "      <td>1</td>\n",
       "      <td>4</td>\n",
       "      <td>1937.0</td>\n",
       "      <td>1830</td>\n",
       "      <td>2037.0</td>\n",
       "      <td>1940</td>\n",
       "      <td>WN</td>\n",
       "      <td>N763SW</td>\n",
       "      <td>15.491933</td>\n",
       "      <td>IND</td>\n",
       "      <td>LAS</td>\n",
       "      <td>1.732051</td>\n",
       "      <td>2.645751</td>\n",
       "      <td>57.0</td>\n",
       "    </tr>\n",
       "    <tr>\n",
       "      <th>2</th>\n",
       "      <td>1</td>\n",
       "      <td>4</td>\n",
       "      <td>1644.0</td>\n",
       "      <td>1510</td>\n",
       "      <td>1845.0</td>\n",
       "      <td>1725</td>\n",
       "      <td>WN</td>\n",
       "      <td>N334SW</td>\n",
       "      <td>11.000000</td>\n",
       "      <td>IND</td>\n",
       "      <td>MCO</td>\n",
       "      <td>2.449490</td>\n",
       "      <td>2.828427</td>\n",
       "      <td>80.0</td>\n",
       "    </tr>\n",
       "    <tr>\n",
       "      <th>3</th>\n",
       "      <td>1</td>\n",
       "      <td>4</td>\n",
       "      <td>1452.0</td>\n",
       "      <td>1425</td>\n",
       "      <td>1640.0</td>\n",
       "      <td>1625</td>\n",
       "      <td>WN</td>\n",
       "      <td>N286WN</td>\n",
       "      <td>15.099669</td>\n",
       "      <td>IND</td>\n",
       "      <td>PHX</td>\n",
       "      <td>2.645751</td>\n",
       "      <td>2.828427</td>\n",
       "      <td>15.0</td>\n",
       "    </tr>\n",
       "    <tr>\n",
       "      <th>4</th>\n",
       "      <td>1</td>\n",
       "      <td>4</td>\n",
       "      <td>1323.0</td>\n",
       "      <td>1255</td>\n",
       "      <td>1526.0</td>\n",
       "      <td>1510</td>\n",
       "      <td>WN</td>\n",
       "      <td>N674AA</td>\n",
       "      <td>11.090537</td>\n",
       "      <td>IND</td>\n",
       "      <td>TPA</td>\n",
       "      <td>2.000000</td>\n",
       "      <td>3.000000</td>\n",
       "      <td>16.0</td>\n",
       "    </tr>\n",
       "    <tr>\n",
       "      <th>...</th>\n",
       "      <td>...</td>\n",
       "      <td>...</td>\n",
       "      <td>...</td>\n",
       "      <td>...</td>\n",
       "      <td>...</td>\n",
       "      <td>...</td>\n",
       "      <td>...</td>\n",
       "      <td>...</td>\n",
       "      <td>...</td>\n",
       "      <td>...</td>\n",
       "      <td>...</td>\n",
       "      <td>...</td>\n",
       "      <td>...</td>\n",
       "      <td>...</td>\n",
       "    </tr>\n",
       "    <tr>\n",
       "      <th>1247479</th>\n",
       "      <td>12</td>\n",
       "      <td>6</td>\n",
       "      <td>921.0</td>\n",
       "      <td>830</td>\n",
       "      <td>1112.0</td>\n",
       "      <td>1008</td>\n",
       "      <td>DL</td>\n",
       "      <td>N907DE</td>\n",
       "      <td>10.535654</td>\n",
       "      <td>ATL</td>\n",
       "      <td>PBI</td>\n",
       "      <td>2.828427</td>\n",
       "      <td>4.582576</td>\n",
       "      <td>64.0</td>\n",
       "    </tr>\n",
       "    <tr>\n",
       "      <th>1247480</th>\n",
       "      <td>12</td>\n",
       "      <td>6</td>\n",
       "      <td>1552.0</td>\n",
       "      <td>1520</td>\n",
       "      <td>1735.0</td>\n",
       "      <td>1718</td>\n",
       "      <td>DL</td>\n",
       "      <td>N905DE</td>\n",
       "      <td>6.557439</td>\n",
       "      <td>HSV</td>\n",
       "      <td>ATL</td>\n",
       "      <td>3.000000</td>\n",
       "      <td>2.645751</td>\n",
       "      <td>17.0</td>\n",
       "    </tr>\n",
       "    <tr>\n",
       "      <th>1247481</th>\n",
       "      <td>12</td>\n",
       "      <td>6</td>\n",
       "      <td>1250.0</td>\n",
       "      <td>1220</td>\n",
       "      <td>1617.0</td>\n",
       "      <td>1552</td>\n",
       "      <td>DL</td>\n",
       "      <td>N938DL</td>\n",
       "      <td>12.124356</td>\n",
       "      <td>MSP</td>\n",
       "      <td>ATL</td>\n",
       "      <td>3.000000</td>\n",
       "      <td>4.242641</td>\n",
       "      <td>25.0</td>\n",
       "    </tr>\n",
       "    <tr>\n",
       "      <th>1247482</th>\n",
       "      <td>12</td>\n",
       "      <td>6</td>\n",
       "      <td>657.0</td>\n",
       "      <td>600</td>\n",
       "      <td>904.0</td>\n",
       "      <td>749</td>\n",
       "      <td>DL</td>\n",
       "      <td>N3743H</td>\n",
       "      <td>11.269428</td>\n",
       "      <td>RIC</td>\n",
       "      <td>ATL</td>\n",
       "      <td>3.872983</td>\n",
       "      <td>5.830952</td>\n",
       "      <td>75.0</td>\n",
       "    </tr>\n",
       "    <tr>\n",
       "      <th>1247483</th>\n",
       "      <td>12</td>\n",
       "      <td>6</td>\n",
       "      <td>1007.0</td>\n",
       "      <td>847</td>\n",
       "      <td>1149.0</td>\n",
       "      <td>1010</td>\n",
       "      <td>DL</td>\n",
       "      <td>N909DA</td>\n",
       "      <td>12.727922</td>\n",
       "      <td>ATL</td>\n",
       "      <td>IAH</td>\n",
       "      <td>2.828427</td>\n",
       "      <td>5.656854</td>\n",
       "      <td>99.0</td>\n",
       "    </tr>\n",
       "  </tbody>\n",
       "</table>\n",
       "<p>1247484 rows × 14 columns</p>\n",
       "</div>"
      ],
      "text/plain": [
       "         Month  DayOfWeek  DepTime  CRSDepTime  ArrTime  CRSArrTime  \\\n",
       "0            1          4   1829.0        1755   1959.0        1925   \n",
       "1            1          4   1937.0        1830   2037.0        1940   \n",
       "2            1          4   1644.0        1510   1845.0        1725   \n",
       "3            1          4   1452.0        1425   1640.0        1625   \n",
       "4            1          4   1323.0        1255   1526.0        1510   \n",
       "...        ...        ...      ...         ...      ...         ...   \n",
       "1247479     12          6    921.0         830   1112.0        1008   \n",
       "1247480     12          6   1552.0        1520   1735.0        1718   \n",
       "1247481     12          6   1250.0        1220   1617.0        1552   \n",
       "1247482     12          6    657.0         600    904.0         749   \n",
       "1247483     12          6   1007.0         847   1149.0        1010   \n",
       "\n",
       "        UniqueCarrier TailNum  ActualElapsedTime Origin Dest    TaxiIn  \\\n",
       "0                  WN  N464WN           9.486833    IND  BWI  1.732051   \n",
       "1                  WN  N763SW          15.491933    IND  LAS  1.732051   \n",
       "2                  WN  N334SW          11.000000    IND  MCO  2.449490   \n",
       "3                  WN  N286WN          15.099669    IND  PHX  2.645751   \n",
       "4                  WN  N674AA          11.090537    IND  TPA  2.000000   \n",
       "...               ...     ...                ...    ...  ...       ...   \n",
       "1247479            DL  N907DE          10.535654    ATL  PBI  2.828427   \n",
       "1247480            DL  N905DE           6.557439    HSV  ATL  3.000000   \n",
       "1247481            DL  N938DL          12.124356    MSP  ATL  3.000000   \n",
       "1247482            DL  N3743H          11.269428    RIC  ATL  3.872983   \n",
       "1247483            DL  N909DA          12.727922    ATL  IAH  2.828427   \n",
       "\n",
       "          TaxiOut  Delay  \n",
       "0        3.162278   34.0  \n",
       "1        2.645751   57.0  \n",
       "2        2.828427   80.0  \n",
       "3        2.828427   15.0  \n",
       "4        3.000000   16.0  \n",
       "...           ...    ...  \n",
       "1247479  4.582576   64.0  \n",
       "1247480  2.645751   17.0  \n",
       "1247481  4.242641   25.0  \n",
       "1247482  5.830952   75.0  \n",
       "1247483  5.656854   99.0  \n",
       "\n",
       "[1247484 rows x 14 columns]"
      ]
     },
     "metadata": {},
     "output_type": "display_data"
    }
   ],
   "source": [
    "org_df = pd.read_csv('AirlineDelay_CleanDataset.csv', index_col=0) \n",
    "df = org_df.copy()\n",
    "\n",
    "display(df)"
   ]
  },
  {
   "cell_type": "code",
   "execution_count": 3,
   "metadata": {},
   "outputs": [],
   "source": [
    "cat_cols = list(df.select_dtypes('object').columns)\n",
    "\n",
    "for c in cat_cols:\n",
    "    df[c] = LabelEncoder().fit_transform(df[c].values)"
   ]
  },
  {
   "cell_type": "markdown",
   "metadata": {},
   "source": [
    "---\n",
    "# Dividing the dataset: \n",
    "### X-Class/Target column and y-Features/Attributes "
   ]
  },
  {
   "cell_type": "code",
   "execution_count": 4,
   "metadata": {},
   "outputs": [],
   "source": [
    "# Whole Dataset\n",
    "\n",
    "X = df.drop(columns=['Delay'])                            \n",
    "y = df['Delay']"
   ]
  },
  {
   "cell_type": "code",
   "execution_count": 5,
   "metadata": {},
   "outputs": [],
   "source": [
    "# Testing sample of the Dataset\n",
    "\n",
    "# A = df.drop(columns=['Delay'])                            \n",
    "# b = df['Delay']\n",
    "\n",
    "# # Dividing the bins by hour\n",
    "# #original_bins = [15, 60, 120, 180, 240, 300, 360, 2462] \n",
    "\n",
    "# # # Because original class has log transformation, bins should be transformed as well\n",
    "# #bins = [np.log(x) for x in original_bins]\n",
    "\n",
    "# bins = [15, 60, 120, 180, 240, 300, 360, 2462] \n",
    "# y_binned = np.digitize(b, bins=bins, right=True)\n",
    "\n",
    "# X_train, X, y_train, y = train_test_split(A, b, test_size=0.10, stratify=y_binned, random_state=RANDOM_STATE)"
   ]
  },
  {
   "cell_type": "markdown",
   "metadata": {},
   "source": [
    "---\n",
    "# Train and evaluate the model with Randomized Search "
   ]
  },
  {
   "cell_type": "code",
   "execution_count": 6,
   "metadata": {},
   "outputs": [],
   "source": [
    "def model_loop(X, y, reg, grid_params):\n",
    "        \n",
    "    bins = [15, 60, 120, 180, 240, 300, 360, 2462]\n",
    "    y_binned = np.digitize(y, bins=bins, right=True)\n",
    "\n",
    "    skf = StratifiedKFold(n_splits=3, shuffle=True, random_state=RANDOM_STATE).split(X, y_binned)\n",
    "    \n",
    "    cat_cols = ['UniqueCarrier', 'TailNum', 'Origin', 'Dest']\n",
    "    num_cols = list(set(X.columns) - set(cat_cols))\n",
    "    \n",
    "    \n",
    "    col_trans = ColumnTransformer(\n",
    "        [\n",
    "            ('mms', MinMaxScaler(), num_cols)\n",
    "            #('ord', OrdinalEncoder(), cat_cols) # THERE IS A PROBLEM WITH THIS LINE AND THE CODE IS NOT WORKING\n",
    "        ],\n",
    "        remainder='drop'\n",
    "    )\n",
    "    \n",
    "    \n",
    "    pipeline = Pipeline(\n",
    "        [\n",
    "            ('col_trans', col_trans),\n",
    "            ('reg', reg)\n",
    "        ]\n",
    "    )\n",
    "    \n",
    "    model = RandomizedSearchCV(estimator=pipeline,\n",
    "                         param_distributions = grid_params,\n",
    "                         cv = skf,\n",
    "                         scoring='r2',\n",
    "                         n_iter=5,\n",
    "                         refit=True,\n",
    "                         n_jobs=-1,\n",
    "                         random_state=RANDOM_STATE,\n",
    "                         verbose=2) \n",
    "    model.fit(X,y)\n",
    "    return model"
   ]
  },
  {
   "cell_type": "code",
   "execution_count": 7,
   "metadata": {},
   "outputs": [],
   "source": [
    "param_dicts = [\n",
    "    {\n",
    "        'reg': RandomForestRegressor(),\n",
    "        'name': \"RandomForest\",\n",
    "        'grid_dict': {\n",
    "            'reg__criterion': ['absolute_error', 'squared_error'],\n",
    "            'reg__max_depth': [1, 5, None],\n",
    "            'reg__min_samples_leaf': [1,5],\n",
    "            'reg__min_samples_split': [2,5,],\n",
    "            'reg__n_estimators': [50, 100],\n",
    "            'reg__random_state': [RANDOM_STATE]\n",
    "        }\n",
    "    },\n",
    "    {\n",
    "        'reg': Lasso(),\n",
    "        'name': \"Lasso\",\n",
    "        'grid_dict': {\n",
    "            'reg__alpha': [0.1,1,10],\n",
    "        }\n",
    "\n",
    "    },\n",
    "    {\n",
    "        'reg': ElasticNet(),\n",
    "        'name': \"ElasticNet\",\n",
    "        'grid_dict': {\n",
    "            'reg__alpha': [0.1,1,10],\n",
    "        }\n",
    "    }\n",
    "]"
   ]
  },
  {
   "cell_type": "code",
   "execution_count": 8,
   "metadata": {},
   "outputs": [
    {
     "name": "stderr",
     "output_type": "stream",
     "text": [
      "\r\n",
      "  0%|          | 0/3 [00:00<?, ?it/s]"
     ]
    },
    {
     "name": "stdout",
     "output_type": "stream",
     "text": [
      "RandomForest\n",
      "Fitting 3 folds for each of 5 candidates, totalling 15 fits\n"
     ]
    },
    {
     "name": "stderr",
     "output_type": "stream",
     "text": [
      "\r\n",
      " 33%|███▎      | 1/3 [32:28<1:04:56, 1948.44s/it]"
     ]
    },
    {
     "name": "stdout",
     "output_type": "stream",
     "text": [
      "Lasso\n"
     ]
    },
    {
     "name": "stderr",
     "output_type": "stream",
     "text": [
      "C:\\Users\\Vesna\\AppData\\Roaming\\Python\\Python310\\site-packages\\sklearn\\model_selection\\_search.py:307: UserWarning: The total space of parameters 3 is smaller than n_iter=5. Running 3 iterations. For exhaustive searches, use GridSearchCV.\n",
      "  warnings.warn(\n"
     ]
    },
    {
     "name": "stdout",
     "output_type": "stream",
     "text": [
      "Fitting 3 folds for each of 3 candidates, totalling 9 fits\n"
     ]
    },
    {
     "name": "stderr",
     "output_type": "stream",
     "text": [
      "\r\n",
      " 67%|██████▋   | 2/3 [32:34<13:26, 806.01s/it]   "
     ]
    },
    {
     "name": "stdout",
     "output_type": "stream",
     "text": [
      "ElasticNet\n"
     ]
    },
    {
     "name": "stderr",
     "output_type": "stream",
     "text": [
      "C:\\Users\\Vesna\\AppData\\Roaming\\Python\\Python310\\site-packages\\sklearn\\model_selection\\_search.py:307: UserWarning: The total space of parameters 3 is smaller than n_iter=5. Running 3 iterations. For exhaustive searches, use GridSearchCV.\n",
      "  warnings.warn(\n"
     ]
    },
    {
     "name": "stdout",
     "output_type": "stream",
     "text": [
      "Fitting 3 folds for each of 3 candidates, totalling 9 fits\n"
     ]
    },
    {
     "name": "stderr",
     "output_type": "stream",
     "text": [
      "100%|██████████| 3/3 [32:38<00:00, 652.93s/it]\n"
     ]
    }
   ],
   "source": [
    "best_models=[]\n",
    "best_model_names=[]\n",
    "\n",
    "for el in tqdm.tqdm(param_dicts):\n",
    "    print(el['name'])\n",
    "    best_models.append(model_loop(X, y, el['reg'], el['grid_dict']))\n",
    "    best_model_names.append(el['name'])"
   ]
  },
  {
   "cell_type": "code",
   "execution_count": 9,
   "metadata": {},
   "outputs": [
    {
     "name": "stdout",
     "output_type": "stream",
     "text": [
      "Model Name:      RandomForest\n",
      "R2 Score:        0.9886236466466879\n",
      "Best parameters: {'reg__random_state': 42, 'reg__n_estimators': 100, 'reg__min_samples_split': 5, 'reg__min_samples_leaf': 1, 'reg__max_depth': None, 'reg__criterion': 'squared_error'}\n",
      "-----------------------------------------------------\n",
      "\n",
      "Model Name:      Lasso\n",
      "R2 Score:        0.08105733334187619\n",
      "Best parameters: {'reg__alpha': 0.1}\n",
      "-----------------------------------------------------\n",
      "\n",
      "Model Name:      ElasticNet\n",
      "R2 Score:        0.022675756532522223\n",
      "Best parameters: {'reg__alpha': 0.1}\n",
      "-----------------------------------------------------\n",
      "\n"
     ]
    }
   ],
   "source": [
    "for el, name in zip(best_models, best_model_names):\n",
    "    print('Model Name:     ', name)\n",
    "    print('R2 Score:       ', el.best_score_)\n",
    "    print('Best parameters:', el.best_params_)\n",
    "    print('-----------------------------------------------------\\n')"
   ]
  }
 ],
 "metadata": {
  "colab": {
   "collapsed_sections": [],
   "name": "Workshop_Week4.ipynb",
   "provenance": []
  },
  "kernelspec": {
   "display_name": "Python 3 (ipykernel)",
   "language": "python",
   "name": "python3"
  },
  "language_info": {
   "codemirror_mode": {
    "name": "ipython",
    "version": 3
   },
   "file_extension": ".py",
   "mimetype": "text/x-python",
   "name": "python",
   "nbconvert_exporter": "python",
   "pygments_lexer": "ipython3",
   "version": "3.10.9"
  },
  "vscode": {
   "interpreter": {
    "hash": "5238573367df39f7286bb46f9ff5f08f63a01a80960060ce41e3c79b190280fa"
   }
  }
 },
 "nbformat": 4,
 "nbformat_minor": 1
}
